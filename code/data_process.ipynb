{
 "cells": [
  {
   "cell_type": "code",
   "execution_count": 1,
   "metadata": {},
   "outputs": [],
   "source": [
    "import csv \n",
    "import numpy as np\n",
    "def str_to_label(str):\n",
    "    if str == \"yes\":\n",
    "        return 1\n",
    "    elif str == \"no\":\n",
    "        return 0"
   ]
  },
  {
   "cell_type": "code",
   "execution_count": 35,
   "metadata": {},
   "outputs": [],
   "source": [
    "\n",
    "train_social_label = []\n",
    "train_agency_label = []\n",
    "with open(\"../data/labeled_10k.csv\") as f:\n",
    "    with open(\"../data/train_data.txt\", 'w') as output:\n",
    "        f_csv = csv.reader(f)\n",
    "        headings = next(f_csv)\n",
    "        for r in f_csv:\n",
    "            line = r[1] + '\\n'\n",
    "            output.write(line)\n",
    "            train_social_label.append(str_to_label(r[4]))\n",
    "            train_agency_label.append(str_to_label(r[3]))\n"
   ]
  },
  {
   "cell_type": "code",
   "execution_count": 9,
   "metadata": {},
   "outputs": [],
   "source": [
    "np.save(\"../data/train_social_label.npy\", train_social_label)\n",
    "np.save(\"../data/train_agency_label.npy\", train_agency_label)"
   ]
  },
  {
   "cell_type": "code",
   "execution_count": 14,
   "metadata": {},
   "outputs": [],
   "source": [
    "train_duration = []\n",
    "train_id = []\n",
    "with open(\"../data/labeled_10k.csv\") as f:\n",
    "    f_csv = csv.reader(f)\n",
    "    headings = next(f_csv)\n",
    "    for r in f_csv:\n",
    "        train_id.append(int(r[0]))\n",
    "        train_duration.append(r[-1])\n",
    "# duration_list=[]\n",
    "# for i in train_duration:\n",
    "#     if i not in duration_list:\n",
    "#         duration_list.append(i)"
   ]
  },
  {
   "cell_type": "code",
   "execution_count": 11,
   "metadata": {},
   "outputs": [],
   "source": [
    "duration_list = ['half_a_day', 'at_least_one_hour', 'all_day_im_still_feeling_it', 'a_few_moment','a_few_minutes' ,'NA']\n",
    "train_duration_label = []\n",
    "for i in train_duration:\n",
    "    train_duration_label.append(duration_list.index(i))\n",
    "np.save(\"../data/train_duration_label.npy\", train_duration_label)"
   ]
  },
  {
   "cell_type": "code",
   "execution_count": 19,
   "metadata": {},
   "outputs": [],
   "source": [
    "v = []\n",
    "a = []\n",
    "d = []\n",
    "vad = []\n",
    "id_vad = []\n",
    "with open(\"../data/vad.csv\") as f:\n",
    "    f_csv = csv.reader(f)\n",
    "    headings = next(f_csv)\n",
    "    for r in f_csv:\n",
    "        id_vad.append(int(r[0]))\n",
    "        if r[1] =='':\n",
    "            v.append(6.342629106)\n",
    "        else:\n",
    "            v.append(float(r[1]))\n",
    "        if r[2] =='':\n",
    "            a.append(5.7782899025)\n",
    "        else:\n",
    "            a.append(float(r[2]))\n",
    "        if r[3] =='':\n",
    "            d.append(4.2864941887)\n",
    "        else:\n",
    "            d.append(float(r[3]))\n"
   ]
  },
  {
   "cell_type": "code",
   "execution_count": 20,
   "metadata": {},
   "outputs": [],
   "source": [
    "train_v = []\n",
    "train_a = []\n",
    "train_d = []\n",
    "for idx in train_id:\n",
    "    loc = id_vad.index(idx)\n",
    "    train_v.append(v[loc])\n",
    "    train_a.append(a[loc])\n",
    "    train_d.append(d[loc])\n",
    "    "
   ]
  },
  {
   "cell_type": "code",
   "execution_count": 23,
   "metadata": {},
   "outputs": [],
   "source": [
    "np.save(\"../data/train_v.npy\", train_v)\n",
    "np.save(\"../data/train_a.npy\", train_a)\n",
    "np.save(\"../data/train_d.npy\", train_d)"
   ]
  },
  {
   "cell_type": "code",
   "execution_count": 37,
   "metadata": {},
   "outputs": [],
   "source": [
    "import numpy as np\n",
    "all_target = np.zeros((len(train_a),6))\n",
    "i = 0\n",
    "while i < len(train_a):\n",
    "    all_target[i, 0] =train_social_label[i]\n",
    "    all_target[i, 1] =train_agency_label[i]\n",
    "    all_target[i, 2] =train_duration_label[i]\n",
    "    all_target[i, 3] =train_v[i]\n",
    "    all_target[i, 4] =train_a[i]\n",
    "    all_target[i, 5] =train_d[i]\n",
    "    i+=1"
   ]
  },
  {
   "cell_type": "code",
   "execution_count": 39,
   "metadata": {},
   "outputs": [],
   "source": [
    "np.save(\"../data/all_target.npy\", all_target)"
   ]
  },
  {
   "cell_type": "code",
   "execution_count": null,
   "metadata": {},
   "outputs": [],
   "source": []
  }
 ],
 "metadata": {
  "kernelspec": {
   "display_name": "Python 3",
   "language": "python",
   "name": "python3"
  },
  "language_info": {
   "codemirror_mode": {
    "name": "ipython",
    "version": 2
   },
   "file_extension": ".py",
   "mimetype": "text/x-python",
   "name": "python",
   "nbconvert_exporter": "python",
   "pygments_lexer": "ipython2",
   "version": "2.7.12"
  }
 },
 "nbformat": 4,
 "nbformat_minor": 2
}
